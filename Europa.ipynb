{
 "cells": [
  {
   "cell_type": "markdown",
   "metadata": {
    "deletable": true,
    "editable": true
   },
   "source": [
    "MARK DOWN"
   ]
  },
  {
   "cell_type": "code",
   "execution_count": null,
   "metadata": {
    "collapsed": true,
    "deletable": true,
    "editable": true
   },
   "outputs": [],
   "source": [
    "###########################################################################\n",
    "#   Author:  David Mora Brandon Sluss and Daniel Koceja                   #\n",
    "#      PID:  99S370192                                                    #\n",
    "#    Class:  PH412, Spring, 2018                                          #\n",
    "#  Helpers:                                                               #\n",
    "#                                                                         #\n",
    "#  Program:  Europa                                                       #\n",
    "# Due Date:  May 18, 2018                                                 #\n",
    "#                                                                         #\n",
    "# Language:  Python 2                                                     #\n",
    "#      IDE:  Jupyter                                                      #\n",
    "#                                                                         #\n",
    "#  Purpose:  Create an ipython document                                   #\n",
    "#                                                                         #\n",
    "#  Bugs\":  No major problems                                              #\n",
    "###########################################################################"
   ]
  },
  {
   "cell_type": "code",
   "execution_count": 2,
   "metadata": {
    "collapsed": false,
    "deletable": true,
    "editable": true
   },
   "outputs": [
    {
     "name": "stdout",
     "output_type": "stream",
     "text": [
      "Please enter height of tower in meters: 100\n",
      "Entered height of towers is:  100.0  meters.\n",
      "('The amount of time it takes for the ball to land is', 4.5175395145262565, 'seconds.')\n"
     ]
    }
   ],
   "source": [
    "import math\n",
    "\n",
    "#TEST EDIT\n",
    "\n",
    "#TEST 2\n",
    "\n"
   ]
  },
  {
   "cell_type": "code",
   "execution_count": null,
   "metadata": {
    "collapsed": true,
    "deletable": true,
    "editable": true
   },
   "outputs": [],
   "source": [
    "GlowScript 2.1 VPython\n",
    "\n",
    "rinitial=5.6*6.4e6 #initial distance of rocket from center of earth\n",
    "jupiterrocketdist=500*6.8e6 #distance from jupite considered a success\n",
    "vinitial=5e3 #initial speed of rocket\n",
    "v = vinitial*norm(vec(4, -5, 0)) #initial velocity of rocket; change the direction only\n",
    "scale=0.1\n",
    "#Diameters\n",
    "Dsun=1\n",
    "Djupiter=139.0e-3\n",
    "Dearth=12.0e-2\n",
    "\n",
    "#Create 3D Objects\n",
    "sun=sphere(dispay=scene, pos=vec(0,0,0), radius=scale*Dsun/2, color=color.yellow)\n",
    "jupiter=sphere(dispay=scene, pos=scale*vec(7,0,0), radius=scale*Djupiter/2, color=color.orange)\n",
    "earth=sphere(dispay=scene, pos=scale*vec(1,0,0), radius=scale*Dearth/2, color=color.blue)\n",
    "rocket=sphere(pos=earth.pos+rinitial*norm(v), radius=earth.radius/2, color=color.orange)\n",
    "rocketarrow1=arrow(dispay=scene, pos=earth.pos, axis=scale1*norm(v), color=color.white)"
   ]
  }
 ],
 "metadata": {
  "kernelspec": {
   "display_name": "Python 2",
   "language": "python",
   "name": "python2"
  },
  "language_info": {
   "codemirror_mode": {
    "name": "ipython",
    "version": 2
   },
   "file_extension": ".py",
   "mimetype": "text/x-python",
   "name": "python",
   "nbconvert_exporter": "python",
   "pygments_lexer": "ipython2",
   "version": "2.7.13"
  }
 },
 "nbformat": 4,
 "nbformat_minor": 2
}
